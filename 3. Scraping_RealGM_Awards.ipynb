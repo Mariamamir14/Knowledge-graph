{
 "cells": [
  {
   "cell_type": "code",
   "execution_count": 1,
   "id": "f69fc238",
   "metadata": {},
   "outputs": [],
   "source": [
    "import requests\n",
    "from bs4 import BeautifulSoup\n",
    "import pandas as pd\n",
    "from lxml import html\n",
    "import datetime"
   ]
  },
  {
   "cell_type": "code",
   "execution_count": 2,
   "id": "78dfdf77",
   "metadata": {},
   "outputs": [
    {
     "data": {
      "text/plain": [
       "<Response [200]>"
      ]
     },
     "execution_count": 2,
     "metadata": {},
     "output_type": "execute_result"
    }
   ],
   "source": [
    "# Define the URL to scrape\n",
    "url = 'https://basketball.realgm.com/nba/awards/by_season'\n",
    "\n",
    "# Send a request to the website and get the HTML content\n",
    "response = requests.get(url)\n",
    "response"
   ]
  },
  {
   "cell_type": "code",
   "execution_count": 3,
   "id": "7febfd17",
   "metadata": {},
   "outputs": [
    {
     "name": "stdout",
     "output_type": "stream",
     "text": [
      "2023-03-01 00:00:00\n"
     ]
    }
   ],
   "source": [
    "month_year = \"March 2023\"  # Example input\n",
    "\n",
    "# Parse the month and year \n",
    "month, year = datetime.datetime.strptime(month_year, \"%B %Y\").month, datetime.datetime.strptime(month_year, \"%B %Y\").year\n",
    "\n",
    "# Create a datetime object with the month and year, and a day of 1 (since we don't have a specific day)\n",
    "timestamp = datetime.datetime(year, month, 1)\n",
    "\n",
    "print(timestamp)"
   ]
  },
  {
   "cell_type": "markdown",
   "id": "1002ae22",
   "metadata": {},
   "source": [
    "## NBA Player Of The Month"
   ]
  },
  {
   "cell_type": "code",
   "execution_count": 4,
   "id": "dd8b5a16",
   "metadata": {},
   "outputs": [],
   "source": [
    "# Find all the NBA Player Of The Month from 2002 till 2023\n",
    "rows=[]\n",
    "#looping through the years\n",
    "for year in range(2002,2024):\n",
    "    \n",
    "    # Url for the year I want \n",
    "    url = 'https://basketball.realgm.com/nba/awards/by_season/'+str(year)\n",
    "\n",
    "    # Send a request to the website and get the HTML content\n",
    "    response = requests.get(url)\n",
    "    content = response.content\n",
    "    soup = BeautifulSoup(content, 'lxml')\n",
    "    #The table that has all the lables and the tables\n",
    "    div = soup.find('div',{ 'class': 'main wrapper clearfix container'})\n",
    "    #h2 has the award name to fillter with the award I want \n",
    "    l=div.find_all('h2')\n",
    "    \n",
    "    #index used inorder to get a wrong table\n",
    "    index=3000\n",
    "    for i in l:\n",
    "        if i.get_text()==str(year-1)+'-'+str(year)+' NBA Player Of The Month':\n",
    "            index=l.index(i)\n",
    "    tables = div.find_all('table', {'class': 'tablesaw'})\n",
    "    table = tables[index-1]\n",
    "    tbody = table.find('tbody')\n",
    "    trs = tbody.find_all('tr')\n",
    "    for tr in trs:\n",
    "        values = tr.find_all('td')\n",
    "        rows.append(\n",
    "        {\n",
    "            'Player':values[0].get_text() ,\n",
    "            'Team':values[1].get_text().replace('\\n' , '') ,\n",
    "            'Conference': values[2].get_text(),\n",
    "            'Month' :values[3].get_text(),\n",
    "            'Year':year,\n",
    "            'Award':\"NBA Player Of The Month\"\n",
    "            #'Date':\n",
    "        })\n",
    "\n",
    "POM = pd.DataFrame(rows)\n",
    "POM\n",
    "POM.to_csv(\"PlayerOfTheMonth.csv\",index=False) \n"
   ]
  },
  {
   "cell_type": "markdown",
   "id": "7ce2cb64",
   "metadata": {},
   "source": [
    "## NBA Player of the week"
   ]
  },
  {
   "cell_type": "code",
   "execution_count": 5,
   "id": "e93cda2c",
   "metadata": {},
   "outputs": [],
   "source": [
    "# Find all the NBA Player Of The Week from 2002 till 2023\n",
    "rows=[]\n",
    "for year in range(2002,2024):\n",
    "    url = 'https://basketball.realgm.com/nba/awards/by_season/'+str(year)\n",
    "    response = requests.get(url)\n",
    "    content = response.content\n",
    "    soup = BeautifulSoup(content, 'lxml')\n",
    "    div = soup.find('div',{ 'class': 'main wrapper clearfix container'})\n",
    "    l = div.find_all('h2')\n",
    "    index = 3000\n",
    "    for i in l:\n",
    "        if i.get_text()==str(year-1)+'-'+str(year)+' NBA Player Of The Week':\n",
    "            index=l.index(i)\n",
    "    tables = div.find_all('table', {'class': 'tablesaw'})\n",
    "    table = tables[index-1]\n",
    "    tbody = table.find('tbody')\n",
    "    trs = tbody.find_all('tr')\n",
    "    for tr in trs:\n",
    "        values = tr.find_all('td')\n",
    "        rows.append(\n",
    "        {\n",
    "            'Player':values[0].get_text() ,\n",
    "            'Team':values[1].get_text().replace('\\n' , '') ,\n",
    "            'Conference': values[2].get_text(),\n",
    "            'Month' :values[3].get_text(),\n",
    "            'Year':year,\n",
    "            'Award':\"NBA Player Of The Week\"\n",
    "        })\n",
    "\n",
    "POW = pd.DataFrame(rows)\n",
    "POW\n",
    "POW.to_csv(\"PlayerOfTheWeek.csv\", index=False)"
   ]
  },
  {
   "cell_type": "markdown",
   "id": "955750c8",
   "metadata": {},
   "source": [
    "## NBA Rookie Of The Month"
   ]
  },
  {
   "cell_type": "code",
   "execution_count": 6,
   "id": "91cc7cf9",
   "metadata": {},
   "outputs": [],
   "source": [
    "# Find all the NBA Rookie Of The Month from 2002 till 2023\n",
    "rows=[]\n",
    "for year in range(2002,2024):\n",
    "    url = 'https://basketball.realgm.com/nba/awards/by_season/'+str(year)\n",
    "    response = requests.get(url)\n",
    "    content = response.content\n",
    "    soup = BeautifulSoup(content, 'lxml')\n",
    "    div = soup.find('div',{ 'class': 'main wrapper clearfix container'})\n",
    "    l = div.find_all('h2')\n",
    "    index = 3000\n",
    "    for i in l:\n",
    "        if i.get_text()==str(year-1)+'-'+str(year)+' NBA Rookie Of The Month':\n",
    "            index=l.index(i)\n",
    "    tables = div.find_all('table', {'class': 'tablesaw'})\n",
    "    table = tables[index-1]\n",
    "    tbody = table.find('tbody')\n",
    "    trs = tbody.find_all('tr')\n",
    "    for tr in trs:\n",
    "        values = tr.find_all('td')\n",
    "        rows.append(\n",
    "        {\n",
    "            'Player':values[0].get_text() ,\n",
    "            'Team':values[1].get_text().replace('\\n' , '') ,\n",
    "            'Conference': values[2].get_text(),\n",
    "            'Month' :values[3].get_text(),\n",
    "            'Year':year\n",
    "        })\n",
    "ROM = pd.DataFrame(rows)\n",
    "ROM\n",
    "ROM.to_csv(\"RookieOfTheMonth.csv\", index = False) "
   ]
  },
  {
   "cell_type": "code",
   "execution_count": null,
   "id": "9f5f00f5",
   "metadata": {},
   "outputs": [],
   "source": []
  }
 ],
 "metadata": {
  "kernelspec": {
   "display_name": "Python 3",
   "language": "python",
   "name": "python3"
  },
  "language_info": {
   "codemirror_mode": {
    "name": "ipython",
    "version": 3
   },
   "file_extension": ".py",
   "mimetype": "text/x-python",
   "name": "python",
   "nbconvert_exporter": "python",
   "pygments_lexer": "ipython3",
   "version": "3.8.8"
  }
 },
 "nbformat": 4,
 "nbformat_minor": 5
}
