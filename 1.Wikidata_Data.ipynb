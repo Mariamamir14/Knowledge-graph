{
 "cells": [
  {
   "cell_type": "code",
   "execution_count": 39,
   "id": "31e61ce3",
   "metadata": {},
   "outputs": [],
   "source": [
    "from rdflib import Graph, Literal, RDF, URIRef\n",
    "import pandas as pd\n",
    "from SPARQLWrapper import SPARQLWrapper\n",
    "from SPARQLWrapper import JSON"
   ]
  },
  {
   "cell_type": "code",
   "execution_count": 10,
   "id": "df7385fe",
   "metadata": {},
   "outputs": [
    {
     "data": {
      "application/javascript": [
       "\n",
       "    if (typeof IPython !== \"undefined\") {\n",
       "        IPython.CodeCell.options_default.highlight_modes['application/sparql-query'] = {'reg':[/^%%rdf sparql/]};\n",
       "        IPython.CodeCell.options_default.highlight_modes['text/turtle'] = {'reg':[/^%%rdf turtle/, /^%%rdf shex/]};\n",
       "        IPython.CodeCell.options_default.highlight_modes['application/ld+json'] = {'reg':[/^%%rdf json-ld/]};\n",
       "        IPython.notebook.get_cells().map(function(cell){ if (cell.cell_type == 'code'){ cell.auto_highlight(); } });\n",
       "    }\n",
       "    "
      ]
     },
     "metadata": {},
     "output_type": "display_data"
    }
   ],
   "source": [
    "%reload_ext jupyter-rdfify"
   ]
  },
  {
   "cell_type": "markdown",
   "id": "27dd6cda",
   "metadata": {},
   "source": [
    "Here is the SPARQL query to extract individuals from Wikidata that will be used to build the knowledge graph which are\n",
    "Player, SportsClub, League, Position, Event, SportsClub Start date, SportsClub end date, Division and Conference.\n",
    "Filtering only the Players who have NBA_ID to limit the data "
   ]
  },
  {
   "cell_type": "code",
   "execution_count": null,
   "id": "d17daaad",
   "metadata": {},
   "outputs": [],
   "source": [
    "sparql = SPARQLWrapper(\"https://query.wikidata.org/sparql\")\n",
    "sparql.setReturnFormat(JSON)\n",
    "\n",
    "\n",
    "query_player = \"\"\"\n",
    "\n",
    "PREFIX pq: <http://www.wikidata.org/prop/qualifier/>\n",
    "PREFIX ps: <http://www.wikidata.org/prop/statement/>\n",
    "PREFIX p: <http://www.wikidata.org/prop/>\n",
    "PREFIX wd: <http://www.wikidata.org/entity/>\n",
    "PREFIX wdt: <http://www.wikidata.org/prop/direct/>\n",
    "\n",
    "\n",
    "SELECT ?player ?playerName ?realgmID ?position ?event ?team ?start ?end ?teamCountry ?league ?division ?conference\n",
    "WHERE {\n",
    "\n",
    "  ?player wdt:P106 wd:Q3665646 ; # instance of basketball player\n",
    "  \n",
    "          wdt:P54 ?team . # plays for a basketball team\n",
    "          \n",
    "OPTIONAL { ?team wdt:P17 ?teamCountry } # get the country of the team, if available\n",
    "  \n",
    "  OPTIONAL { ?player p:P54 ?statement .\n",
    "             ?statement ps:P54 ?team .\n",
    "             ?statement pq:P580 ?start .\n",
    "             OPTIONAL { ?statement pq:P582 ?end }\n",
    "           } # get the start and end date for each team\n",
    "           \n",
    "  OPTIONAL { ?player p:P413 ?positionStatement .\n",
    "             ?positionStatement ps:P413 ?position .\n",
    "             OPTIONAL { ?positionStatement pq:P580 ?start }\n",
    "             OPTIONAL { ?positionStatement pq:P582 ?end }\n",
    "           } # get the positions played by the player\n",
    "           \n",
    "  OPTIONAL { ?player p:P1344 ?eventStatement .\n",
    "             ?eventStatement ps:P1344 ?event .\n",
    "           } # get the events the player participated in\n",
    "           \n",
    "             ?team wdt:P118 ?league # get the league the team plays in, if available\n",
    " \n",
    "  OPTIONAL { ?team wdt:P361 ?division .\n",
    "            ?division wdt:P361 ?conference.} #get the division of the team, if it exits get it's conference\n",
    "\n",
    "            ?player p:P3957 ?realgmStatement .\n",
    "            ?realgmStatement ps:P3957 ?realgmID . # get the RealGM ID for each player,\n",
    "?player rdfs:label ?playerName . FILTER (lang(?playerName) = 'en')\n",
    "  \n",
    "  FILTER EXISTS {?player wdt:P2685 ?nbaID}\n",
    "}\n",
    "\n",
    "Limit 100000\n",
    "\n",
    "\"\"\"\n",
    "sparql.setQuery(query_player)\n",
    "Basketball_players = sparql.query().convert()"
   ]
  },
  {
   "cell_type": "code",
   "execution_count": 25,
   "id": "4cbc393b",
   "metadata": {},
   "outputs": [
    {
     "name": "stdout",
     "output_type": "stream",
     "text": [
      "<class 'dict'>\n"
     ]
    }
   ],
   "source": [
    "print(type(Basketball_players))"
   ]
  },
  {
   "cell_type": "code",
   "execution_count": 26,
   "id": "56f896b5",
   "metadata": {},
   "outputs": [
    {
     "data": {
      "text/plain": [
       "{'player': {'type': 'uri', 'value': 'http://www.wikidata.org/entity/Q65594'},\n",
       " 'team': {'type': 'uri', 'value': 'http://www.wikidata.org/entity/Q976396'},\n",
       " 'league': {'type': 'uri', 'value': 'http://www.wikidata.org/entity/Q155223'},\n",
       " 'playerName': {'xml:lang': 'en',\n",
       "  'type': 'literal',\n",
       "  'value': \"Boniface N'Dong\"},\n",
       " 'teamCountry': {'type': 'uri', 'value': 'http://www.wikidata.org/entity/Q30'},\n",
       " 'position': {'type': 'uri',\n",
       "  'value': 'http://www.wikidata.org/entity/Q222052'},\n",
       " 'event': {'type': 'uri', 'value': 'http://www.wikidata.org/entity/Q3736875'},\n",
       " 'start': {'datatype': 'http://www.w3.org/2001/XMLSchema#dateTime',\n",
       "  'type': 'literal',\n",
       "  'value': '2005-01-01T00:00:00Z'},\n",
       " 'end': {'datatype': 'http://www.w3.org/2001/XMLSchema#dateTime',\n",
       "  'type': 'literal',\n",
       "  'value': '2006-01-01T00:00:00Z'},\n",
       " 'realgmID': {'type': 'literal', 'value': '1013'},\n",
       " 'division': {'type': 'uri',\n",
       "  'value': 'http://www.wikidata.org/entity/Q206201'},\n",
       " 'conference': {'type': 'uri',\n",
       "  'value': 'http://www.wikidata.org/entity/Q318389'}}"
      ]
     },
     "execution_count": 26,
     "metadata": {},
     "output_type": "execute_result"
    }
   ],
   "source": [
    "Basketball_players[\"results\"][\"bindings\"][4]"
   ]
  },
  {
   "cell_type": "code",
   "execution_count": 27,
   "id": "f619de3a",
   "metadata": {},
   "outputs": [
    {
     "data": {
      "text/plain": [
       "49170"
      ]
     },
     "execution_count": 27,
     "metadata": {},
     "output_type": "execute_result"
    }
   ],
   "source": [
    "len(Basketball_players[\"results\"][\"bindings\"])"
   ]
  },
  {
   "cell_type": "code",
   "execution_count": 28,
   "id": "191ecfff",
   "metadata": {},
   "outputs": [
    {
     "data": {
      "text/plain": [
       "['player',\n",
       " 'team',\n",
       " 'league',\n",
       " 'playerName',\n",
       " 'teamCountry',\n",
       " 'position',\n",
       " 'event',\n",
       " 'start',\n",
       " 'end',\n",
       " 'realgmID',\n",
       " 'division',\n",
       " 'conference']"
      ]
     },
     "execution_count": 28,
     "metadata": {},
     "output_type": "execute_result"
    }
   ],
   "source": [
    "#column list\n",
    "cols = list(Basketball_players[\"results\"][\"bindings\"][4].keys())\n",
    "cols"
   ]
  },
  {
   "cell_type": "code",
   "execution_count": 29,
   "id": "a86b4160",
   "metadata": {},
   "outputs": [
    {
     "data": {
      "text/plain": [
       "{'player': [],\n",
       " 'team': [],\n",
       " 'league': [],\n",
       " 'playerName': [],\n",
       " 'teamCountry': [],\n",
       " 'position': [],\n",
       " 'event': [],\n",
       " 'start': [],\n",
       " 'end': [],\n",
       " 'realgmID': [],\n",
       " 'division': [],\n",
       " 'conference': []}"
      ]
     },
     "execution_count": 29,
     "metadata": {},
     "output_type": "execute_result"
    }
   ],
   "source": [
    "#creating a data dictionary\n",
    "data = {key:[] for key in cols}\n",
    "data"
   ]
  },
  {
   "cell_type": "code",
   "execution_count": 30,
   "id": "71f9f332",
   "metadata": {},
   "outputs": [],
   "source": [
    "for item in Basketball_players[\"results\"][\"bindings\"]:\n",
    "    for col in cols:\n",
    "        if col in item:\n",
    "            data[col].append(item[col]['value'])\n",
    "        else:\n",
    "            data[col].append(\"\")"
   ]
  },
  {
   "cell_type": "code",
   "execution_count": 31,
   "id": "478cfe80",
   "metadata": {},
   "outputs": [
    {
     "name": "stdout",
     "output_type": "stream",
     "text": [
      "There are 49170 records in the dataframe\n"
     ]
    },
    {
     "data": {
      "text/html": [
       "<div>\n",
       "<style scoped>\n",
       "    .dataframe tbody tr th:only-of-type {\n",
       "        vertical-align: middle;\n",
       "    }\n",
       "\n",
       "    .dataframe tbody tr th {\n",
       "        vertical-align: top;\n",
       "    }\n",
       "\n",
       "    .dataframe thead th {\n",
       "        text-align: right;\n",
       "    }\n",
       "</style>\n",
       "<table border=\"1\" class=\"dataframe\">\n",
       "  <thead>\n",
       "    <tr style=\"text-align: right;\">\n",
       "      <th></th>\n",
       "      <th>player</th>\n",
       "      <th>team</th>\n",
       "      <th>league</th>\n",
       "      <th>playerName</th>\n",
       "      <th>teamCountry</th>\n",
       "      <th>position</th>\n",
       "      <th>event</th>\n",
       "      <th>start</th>\n",
       "      <th>end</th>\n",
       "      <th>realgmID</th>\n",
       "      <th>division</th>\n",
       "      <th>conference</th>\n",
       "    </tr>\n",
       "  </thead>\n",
       "  <tbody>\n",
       "    <tr>\n",
       "      <th>0</th>\n",
       "      <td>http://www.wikidata.org/entity/Q65594</td>\n",
       "      <td>http://www.wikidata.org/entity/Q700366</td>\n",
       "      <td>http://www.wikidata.org/entity/Q540636</td>\n",
       "      <td>Boniface N'Dong</td>\n",
       "      <td>http://www.wikidata.org/entity/Q183</td>\n",
       "      <td>http://www.wikidata.org/entity/Q222052</td>\n",
       "      <td>http://www.wikidata.org/entity/Q2626396</td>\n",
       "      <td>2002-01-01T00:00:00Z</td>\n",
       "      <td>2003-01-01T00:00:00Z</td>\n",
       "      <td>1013</td>\n",
       "      <td></td>\n",
       "      <td></td>\n",
       "    </tr>\n",
       "    <tr>\n",
       "      <th>1</th>\n",
       "      <td>http://www.wikidata.org/entity/Q65594</td>\n",
       "      <td>http://www.wikidata.org/entity/Q700366</td>\n",
       "      <td>http://www.wikidata.org/entity/Q540636</td>\n",
       "      <td>Boniface N'Dong</td>\n",
       "      <td>http://www.wikidata.org/entity/Q183</td>\n",
       "      <td>http://www.wikidata.org/entity/Q222052</td>\n",
       "      <td>http://www.wikidata.org/entity/Q3736875</td>\n",
       "      <td>2002-01-01T00:00:00Z</td>\n",
       "      <td>2003-01-01T00:00:00Z</td>\n",
       "      <td>1013</td>\n",
       "      <td></td>\n",
       "      <td></td>\n",
       "    </tr>\n",
       "    <tr>\n",
       "      <th>2</th>\n",
       "      <td>http://www.wikidata.org/entity/Q65594</td>\n",
       "      <td>http://www.wikidata.org/entity/Q700366</td>\n",
       "      <td>http://www.wikidata.org/entity/Q540636</td>\n",
       "      <td>Boniface N'Dong</td>\n",
       "      <td>http://www.wikidata.org/entity/Q183</td>\n",
       "      <td>http://www.wikidata.org/entity/Q222052</td>\n",
       "      <td>http://www.wikidata.org/entity/Q1616028</td>\n",
       "      <td>2002-01-01T00:00:00Z</td>\n",
       "      <td>2003-01-01T00:00:00Z</td>\n",
       "      <td>1013</td>\n",
       "      <td></td>\n",
       "      <td></td>\n",
       "    </tr>\n",
       "    <tr>\n",
       "      <th>3</th>\n",
       "      <td>http://www.wikidata.org/entity/Q65594</td>\n",
       "      <td>http://www.wikidata.org/entity/Q976396</td>\n",
       "      <td>http://www.wikidata.org/entity/Q155223</td>\n",
       "      <td>Boniface N'Dong</td>\n",
       "      <td>http://www.wikidata.org/entity/Q30</td>\n",
       "      <td>http://www.wikidata.org/entity/Q222052</td>\n",
       "      <td>http://www.wikidata.org/entity/Q2626396</td>\n",
       "      <td>2005-01-01T00:00:00Z</td>\n",
       "      <td>2006-01-01T00:00:00Z</td>\n",
       "      <td>1013</td>\n",
       "      <td>http://www.wikidata.org/entity/Q206201</td>\n",
       "      <td>http://www.wikidata.org/entity/Q318389</td>\n",
       "    </tr>\n",
       "    <tr>\n",
       "      <th>4</th>\n",
       "      <td>http://www.wikidata.org/entity/Q65594</td>\n",
       "      <td>http://www.wikidata.org/entity/Q976396</td>\n",
       "      <td>http://www.wikidata.org/entity/Q155223</td>\n",
       "      <td>Boniface N'Dong</td>\n",
       "      <td>http://www.wikidata.org/entity/Q30</td>\n",
       "      <td>http://www.wikidata.org/entity/Q222052</td>\n",
       "      <td>http://www.wikidata.org/entity/Q3736875</td>\n",
       "      <td>2005-01-01T00:00:00Z</td>\n",
       "      <td>2006-01-01T00:00:00Z</td>\n",
       "      <td>1013</td>\n",
       "      <td>http://www.wikidata.org/entity/Q206201</td>\n",
       "      <td>http://www.wikidata.org/entity/Q318389</td>\n",
       "    </tr>\n",
       "  </tbody>\n",
       "</table>\n",
       "</div>"
      ],
      "text/plain": [
       "                                  player  \\\n",
       "0  http://www.wikidata.org/entity/Q65594   \n",
       "1  http://www.wikidata.org/entity/Q65594   \n",
       "2  http://www.wikidata.org/entity/Q65594   \n",
       "3  http://www.wikidata.org/entity/Q65594   \n",
       "4  http://www.wikidata.org/entity/Q65594   \n",
       "\n",
       "                                     team  \\\n",
       "0  http://www.wikidata.org/entity/Q700366   \n",
       "1  http://www.wikidata.org/entity/Q700366   \n",
       "2  http://www.wikidata.org/entity/Q700366   \n",
       "3  http://www.wikidata.org/entity/Q976396   \n",
       "4  http://www.wikidata.org/entity/Q976396   \n",
       "\n",
       "                                   league       playerName  \\\n",
       "0  http://www.wikidata.org/entity/Q540636  Boniface N'Dong   \n",
       "1  http://www.wikidata.org/entity/Q540636  Boniface N'Dong   \n",
       "2  http://www.wikidata.org/entity/Q540636  Boniface N'Dong   \n",
       "3  http://www.wikidata.org/entity/Q155223  Boniface N'Dong   \n",
       "4  http://www.wikidata.org/entity/Q155223  Boniface N'Dong   \n",
       "\n",
       "                           teamCountry  \\\n",
       "0  http://www.wikidata.org/entity/Q183   \n",
       "1  http://www.wikidata.org/entity/Q183   \n",
       "2  http://www.wikidata.org/entity/Q183   \n",
       "3   http://www.wikidata.org/entity/Q30   \n",
       "4   http://www.wikidata.org/entity/Q30   \n",
       "\n",
       "                                 position  \\\n",
       "0  http://www.wikidata.org/entity/Q222052   \n",
       "1  http://www.wikidata.org/entity/Q222052   \n",
       "2  http://www.wikidata.org/entity/Q222052   \n",
       "3  http://www.wikidata.org/entity/Q222052   \n",
       "4  http://www.wikidata.org/entity/Q222052   \n",
       "\n",
       "                                     event                 start  \\\n",
       "0  http://www.wikidata.org/entity/Q2626396  2002-01-01T00:00:00Z   \n",
       "1  http://www.wikidata.org/entity/Q3736875  2002-01-01T00:00:00Z   \n",
       "2  http://www.wikidata.org/entity/Q1616028  2002-01-01T00:00:00Z   \n",
       "3  http://www.wikidata.org/entity/Q2626396  2005-01-01T00:00:00Z   \n",
       "4  http://www.wikidata.org/entity/Q3736875  2005-01-01T00:00:00Z   \n",
       "\n",
       "                    end realgmID                                division  \\\n",
       "0  2003-01-01T00:00:00Z     1013                                           \n",
       "1  2003-01-01T00:00:00Z     1013                                           \n",
       "2  2003-01-01T00:00:00Z     1013                                           \n",
       "3  2006-01-01T00:00:00Z     1013  http://www.wikidata.org/entity/Q206201   \n",
       "4  2006-01-01T00:00:00Z     1013  http://www.wikidata.org/entity/Q206201   \n",
       "\n",
       "                               conference  \n",
       "0                                          \n",
       "1                                          \n",
       "2                                          \n",
       "3  http://www.wikidata.org/entity/Q318389  \n",
       "4  http://www.wikidata.org/entity/Q318389  "
      ]
     },
     "execution_count": 31,
     "metadata": {},
     "output_type": "execute_result"
    }
   ],
   "source": [
    "data_frame = pd.DataFrame(data)\n",
    "print('There are',len(data_frame),'records in the dataframe')\n",
    "data_frame.head()"
   ]
  },
  {
   "cell_type": "code",
   "execution_count": 32,
   "id": "bc7bc65b",
   "metadata": {},
   "outputs": [
    {
     "data": {
      "text/plain": [
       "491700"
      ]
     },
     "execution_count": 32,
     "metadata": {},
     "output_type": "execute_result"
    }
   ],
   "source": [
    "#Total edges without temporal metadata\n",
    "data_frame[['player','team', 'playerName', 'teamCountry', 'position', 'event', 'league', 'realgmID', 'division', 'conference']].size"
   ]
  },
  {
   "cell_type": "code",
   "execution_count": 33,
   "id": "7e661ea8",
   "metadata": {},
   "outputs": [],
   "source": [
    "data_frame.to_csv('Wikidata_data.csv', index=False)"
   ]
  },
  {
   "cell_type": "code",
   "execution_count": 41,
   "id": "21b1c43b",
   "metadata": {},
   "outputs": [
    {
     "name": "stdout",
     "output_type": "stream",
     "text": [
      "There are 5897 unique Players.\n"
     ]
    }
   ],
   "source": [
    "Unique_player = data_frame['playerName'].unique()\n",
    "len(Unique_player)\n",
    "print(\"There are \" + str(len(Unique_player))+ \" unique Players.\")"
   ]
  },
  {
   "cell_type": "code",
   "execution_count": 42,
   "id": "0793d65d",
   "metadata": {},
   "outputs": [
    {
     "name": "stdout",
     "output_type": "stream",
     "text": [
      "There are 5893 unique ReamgmIDs.\n"
     ]
    }
   ],
   "source": [
    "Unique_RealGM = data_frame['realgmID'].unique()\n",
    "len(Unique_RealGM)\n",
    "print(\"There are \" + str(len(Unique_RealGM))+ \" unique ReamgmIDs.\")"
   ]
  },
  {
   "cell_type": "code",
   "execution_count": null,
   "id": "b6d61232",
   "metadata": {},
   "outputs": [],
   "source": []
  }
 ],
 "metadata": {
  "kernelspec": {
   "display_name": "Python 3",
   "language": "python",
   "name": "python3"
  },
  "language_info": {
   "codemirror_mode": {
    "name": "ipython",
    "version": 3
   },
   "file_extension": ".py",
   "mimetype": "text/x-python",
   "name": "python",
   "nbconvert_exporter": "python",
   "pygments_lexer": "ipython3",
   "version": "3.8.8"
  }
 },
 "nbformat": 4,
 "nbformat_minor": 5
}
